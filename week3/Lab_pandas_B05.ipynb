{
 "cells": [
  {
   "cell_type": "markdown",
   "metadata": {},
   "source": [
    "# Groupby : Split, Apply and Combine\n",
    "---------------\n",
    "   Groupby is one of the important operations in data analysis.It includes three steps - <br>\n",
    "         \n",
    "   <ul>\n",
    "    <li><b>Splitting</b></li>\n",
    "    <li><b>Applying</b>\n",
    "        <ul>\n",
    "            <li>Aggregation</li>\n",
    "            <li>Transformation</li>\n",
    "            <li>Filterting</li>\n",
    "        </ul>\n",
    "    </li>\n",
    "    <li><b>Combine</b></li>\n",
    "   </ul>\n",
    "        \n",
    "   Groupby property is grouped the data according the column supplied to the function.In the following example\n",
    " you can see the i have grouped the dataframe df by its team."
   ]
  },
  {
   "cell_type": "code",
   "execution_count": null,
   "metadata": {},
   "outputs": [],
   "source": [
    "import pandas as pd\n",
    "import numpy as np"
   ]
  },
  {
   "cell_type": "code",
   "execution_count": null,
   "metadata": {},
   "outputs": [],
   "source": [
    "d={\n",
    "    'team':[\"India\",\"New zealand\",\"Australia\",\"India\",\n",
    "            \"India\",\"New zealand\",\"Australia\",\"India\",\n",
    "            \"New zealand\",\"Australia\",\"New zealand\",\"Australia\"],\n",
    "     'Run':[330,230,300,180,200,250,190,400,340,290,390,333],\n",
    "     \"Match\":[2,4,2,1,5,6,3,2,5,3,1,1],\n",
    "     \"Year\":['2012','2012','2012','2012','2013','2013','2013','2013','2014','2014','2014','2014']\n",
    "  }\n",
    "df=pd.DataFrame(d)\n",
    "df"
   ]
  },
  {
   "cell_type": "markdown",
   "metadata": {},
   "source": [
    "    groupby() function will return an object.we can imagine that every group is pointing to its dataframe.\n",
    "        "
   ]
  },
  {
   "cell_type": "code",
   "execution_count": null,
   "metadata": {},
   "outputs": [],
   "source": [
    "g=df.groupby('team')\n"
   ]
  },
  {
   "cell_type": "code",
   "execution_count": null,
   "metadata": {},
   "outputs": [],
   "source": [
    "g.head()"
   ]
  },
  {
   "cell_type": "code",
   "execution_count": null,
   "metadata": {},
   "outputs": [],
   "source": [
    "for team,teamdata in g:\n",
    "    print(team)\n",
    "    print(\"-\"*10)\n",
    "    print(teamdata)\n",
    "    print(\"-\"*35)"
   ]
  },
  {
   "cell_type": "markdown",
   "metadata": {},
   "source": [
    " **get_group('group name') :**  <br>\n",
    "  It will return dataframe of particular group"
   ]
  },
  {
   "cell_type": "code",
   "execution_count": null,
   "metadata": {},
   "outputs": [],
   "source": [
    "g.get_group('India')"
   ]
  },
  {
   "cell_type": "code",
   "execution_count": null,
   "metadata": {},
   "outputs": [],
   "source": [
    "g.get_group('Australia')"
   ]
  },
  {
   "cell_type": "markdown",
   "metadata": {},
   "source": [
    "     We can also perform group operations as if tthe groups were dataframes:"
   ]
  },
  {
   "cell_type": "code",
   "execution_count": null,
   "metadata": {},
   "outputs": [],
   "source": [
    "g.min()"
   ]
  },
  {
   "cell_type": "code",
   "execution_count": null,
   "metadata": {},
   "outputs": [],
   "source": [
    "g.mean()"
   ]
  },
  {
   "cell_type": "code",
   "execution_count": null,
   "metadata": {},
   "outputs": [],
   "source": [
    "g_yr=df.groupby('Year')\n",
    "g_yr['Run'].agg([np.min,np.max,np.mean,np.sum,np.std])"
   ]
  },
  {
   "cell_type": "code",
   "execution_count": null,
   "metadata": {},
   "outputs": [],
   "source": []
  },
  {
   "cell_type": "code",
   "execution_count": null,
   "metadata": {},
   "outputs": [],
   "source": []
  },
  {
   "cell_type": "code",
   "execution_count": null,
   "metadata": {},
   "outputs": [],
   "source": []
  },
  {
   "cell_type": "code",
   "execution_count": null,
   "metadata": {},
   "outputs": [],
   "source": []
  }
 ],
 "metadata": {
  "kernelspec": {
   "display_name": "Python 3",
   "language": "python",
   "name": "python3"
  },
  "language_info": {
   "codemirror_mode": {
    "name": "ipython",
    "version": 3
   },
   "file_extension": ".py",
   "mimetype": "text/x-python",
   "name": "python",
   "nbconvert_exporter": "python",
   "pygments_lexer": "ipython3",
   "version": "3.7.6"
  }
 },
 "nbformat": 4,
 "nbformat_minor": 2
}
