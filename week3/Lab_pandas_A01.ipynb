{
 "cells": [
  {
   "cell_type": "markdown",
   "metadata": {},
   "source": [
    "# Introduction to pandas\n",
    "Based on tutorials by M. Shahid https://github.com/dshahid380/Data-analysis-with-pandas and exercises by G. Samora https://github.com/guipsamora/pandas_exercises"
   ]
  },
  {
   "cell_type": "markdown",
   "metadata": {},
   "source": [
    "## What is pandas ?"
   ]
  },
  {
   "cell_type": "markdown",
   "metadata": {},
   "source": [
    "<img src=\"IMG/pandas_logo.png\">\n",
    "\n",
    "***pandas*** is an open source, BSD-licensed library providing high-performance, easy-to-use data structures and data analysis tools for the Python programming language.\n",
    "Python has long been great for data munging and preparation, but less so for data analysis and modeling. pandas helps fill this gap, enabling you to carry out your entire data analysis workflow in Python without having to switch to a more domain specific language like **R**.[pandas website]\n",
    "\n",
    "\n",
    "### External Information\n",
    "* Pandas website:  https://pandas.pydata.org/\n",
    "* Pandas user guide: http://pandas.pydata.org/pandas-docs/stable/user_guide/index.html\n",
    "* Pandas API documentation: http://pandas.pydata.org/pandas-docs/stable/reference/index.html\n",
    "* VERY USEFULL: Pandas Cheat Sheet: https://github.com/pandas-dev/pandas/blob/master/doc/cheatsheet/Pandas_Cheat_Sheet.pdf"
   ]
  },
  {
   "cell_type": "markdown",
   "metadata": {},
   "source": [
    "## Getting started\n",
    "To use pandas you need to first import the pandas module in your program"
   ]
  },
  {
   "cell_type": "code",
   "execution_count": null,
   "metadata": {},
   "outputs": [],
   "source": [
    "import pandas as pd #naming convention for pandas is pd"
   ]
  },
  {
   "cell_type": "markdown",
   "metadata": {},
   "source": [
    "### Reading CSV and Excel sheets:"
   ]
  },
  {
   "cell_type": "markdown",
   "metadata": {},
   "source": [
    "##### d=pd.read_csv(\"path\"):\n",
    " * pd.read_csv() is the function to read the CSV(Comma separated values) file from your computer.\n",
    " * In the function you have to pass \"path\" of the CSV file under quote.\n",
    " * Store the dataframe in any variable,here i stored it in variable \"d\".\n",
    " * read_csv() function makes the CSV file into dataframe so that you can access it just like a disctionary.\n",
    "\n",
    "##### d=pd.read_excel(\"path\") : \n",
    " * It is same as the read_csv() but it reads  excel sheet or file.\n",
    "\n",
    "### Importing Weather data"
   ]
  },
  {
   "cell_type": "code",
   "execution_count": null,
   "metadata": {},
   "outputs": [],
   "source": [
    "d=pd.read_csv('DATA/weather.csv') \n",
    "# returning dataframe object\n",
    "d\n",
    "#printing dataframe d in table format"
   ]
  },
  {
   "cell_type": "markdown",
   "metadata": {},
   "source": [
    "### First interaction with the data \n",
    "#### How many rows are  in my DataFrame ?"
   ]
  },
  {
   "cell_type": "code",
   "execution_count": null,
   "metadata": {},
   "outputs": [],
   "source": [
    "print(len(d))\n",
    "# there are 96453 rows"
   ]
  },
  {
   "cell_type": "markdown",
   "metadata": {},
   "source": [
    "#### Getting the first n-rows of dataset\n",
    "  * To see the first five rows call head() function with dataframe object. <br>\n",
    "      for example-  \n",
    "      <code> d.head() </code> <br>\n",
    "  * If you want to view first n-rows <br>\n",
    "      <code> d.head(n) </code>"
   ]
  },
  {
   "cell_type": "code",
   "execution_count": null,
   "metadata": {},
   "outputs": [],
   "source": [
    "d.head() # first five rows"
   ]
  },
  {
   "cell_type": "code",
   "execution_count": null,
   "metadata": {},
   "outputs": [],
   "source": [
    "d.head(9) # to print first n=9 rows"
   ]
  },
  {
   "cell_type": "markdown",
   "metadata": {},
   "source": [
    "### Getting the last n-rows of dataset\n",
    "  * Call the tail() function <br>\n",
    "     <code> d.tail() </code> <br>\n",
    "It will show only last five rows of dataframe d. <br>\n",
    "  * If you want to see last n-rows - <br>\n",
    "     <code> d.tail(n) </code>"
   ]
  },
  {
   "cell_type": "code",
   "execution_count": null,
   "metadata": {},
   "outputs": [],
   "source": [
    "d.tail() #last five rows"
   ]
  },
  {
   "cell_type": "code",
   "execution_count": null,
   "metadata": {},
   "outputs": [],
   "source": [
    "d.tail(9) # last 9 rows"
   ]
  },
  {
   "cell_type": "markdown",
   "metadata": {},
   "source": [
    "## Simple Slicing in a DataFrame\n",
    " * Slicing works very similar to Numpy \n",
    " * Suppose you want to get 10 rows of the dataframe ranging from row 20 to 30. <br>\n",
    "   <code> d[20<b>:</b>31] </code>"
   ]
  },
  {
   "cell_type": "code",
   "execution_count": null,
   "metadata": {},
   "outputs": [],
   "source": [
    "d[20:31]"
   ]
  },
  {
   "cell_type": "code",
   "execution_count": null,
   "metadata": {},
   "outputs": [],
   "source": [
    "#slicing with step size\n",
    "d[20:30:2]"
   ]
  },
  {
   "cell_type": "code",
   "execution_count": null,
   "metadata": {},
   "outputs": [],
   "source": [
    "#inverse index\n",
    "d[-15:-10]"
   ]
  },
  {
   "cell_type": "markdown",
   "metadata": {},
   "source": [
    "### BUT: accesing a single element is different!"
   ]
  },
  {
   "cell_type": "code",
   "execution_count": null,
   "metadata": {},
   "outputs": [],
   "source": [
    "d[3]"
   ]
  },
  {
   "cell_type": "code",
   "execution_count": null,
   "metadata": {},
   "outputs": [],
   "source": [
    "#use iloc instead\n",
    "d.iloc[3]"
   ]
  },
  {
   "cell_type": "code",
   "execution_count": null,
   "metadata": {},
   "outputs": [],
   "source": [
    "#check with head\n",
    "d.head()"
   ]
  },
  {
   "cell_type": "markdown",
   "metadata": {},
   "source": [
    "### Accesing the particular column of dataframe :\n",
    " * You can access the particular column of the dataframe just my mentioning its name under quote with dataframe d.<br>\n",
    "    for example you want to access Humidity column e.i, <br>\n",
    "    \n",
    "    <code> d['Humidity'] </code>"
   ]
  },
  {
   "cell_type": "code",
   "execution_count": null,
   "metadata": {},
   "outputs": [],
   "source": [
    "d['Humidity'].head(10) \n",
    "#Here i have applied head() function just to see only first 10 values because humidity \n",
    "#column has too many values"
   ]
  },
  {
   "cell_type": "markdown",
   "metadata": {},
   "source": [
    "### Finding min, max and average of a column:\n",
    "  * <b>min() :</b> To find minimum of a column\n",
    "  * <b>max() :</b> To find maximum of a column <br>\n",
    "  * <b>mean() :</b> To find average of a column <br>\n",
    "  \n",
    "Find minimum and maximum of Humidity column-"
   ]
  },
  {
   "cell_type": "code",
   "execution_count": null,
   "metadata": {},
   "outputs": [],
   "source": [
    "d['Humidity'].min() \n",
    "#Printing minimum value of Humidity"
   ]
  },
  {
   "cell_type": "code",
   "execution_count": null,
   "metadata": {},
   "outputs": [],
   "source": [
    "d['Humidity'].max()\n",
    "#Print maximum value Humidity"
   ]
  },
  {
   "cell_type": "code",
   "execution_count": null,
   "metadata": {},
   "outputs": [],
   "source": [
    "d['Humidity'].mean()\n",
    "#Print average value Humidty"
   ]
  },
  {
   "cell_type": "markdown",
   "metadata": {},
   "source": [
    "### Conditional statements\n",
    "  * <code>d[\"your column\"][\"your condition\"] </code> <br>\n",
    "   It will return all the values in which your condition holds true.\n",
    "#### Examples : <br>\n",
    "  * Find temp when Humidity is minimum<br>\n",
    "  \n",
    "    <code> d['Temperature(C)'][d['Humidity']==d['Humidity'].min() ]</code> <br><br>\n",
    "    \n",
    "  * Find temp when Humidity is maximum <br>\n",
    "  \n",
    "    <code> d['Temperature(C)'][d['Humidity']==d['Humidity'].max() ] </code>"
   ]
  },
  {
   "cell_type": "code",
   "execution_count": null,
   "metadata": {},
   "outputs": [],
   "source": [
    " d['Temperature (C)'][d['Humidity']==d['Humidity'].min()]"
   ]
  },
  {
   "cell_type": "code",
   "execution_count": null,
   "metadata": {},
   "outputs": [],
   "source": [
    " d['Temperature (C)'][d['Humidity']==d['Humidity'].max()]"
   ]
  },
  {
   "cell_type": "markdown",
   "metadata": {},
   "source": [
    "In the same way you can apply various condition and analyse it hidden features"
   ]
  },
  {
   "cell_type": "markdown",
   "metadata": {},
   "source": [
    "### Replacing NaN with specific value\n",
    " * Here i am replacing all NaN value with 0."
   ]
  },
  {
   "cell_type": "code",
   "execution_count": null,
   "metadata": {},
   "outputs": [],
   "source": [
    "d.fillna(0,inplace=True)\n"
   ]
  },
  {
   "cell_type": "markdown",
   "metadata": {},
   "source": [
    "### Visualization with Pandas\n",
    "Pandas also has build in visualization and plotting methods"
   ]
  },
  {
   "cell_type": "code",
   "execution_count": null,
   "metadata": {},
   "outputs": [],
   "source": [
    "# example simple plot\n",
    "import matplotlib.pyplot as plt\n",
    "%matplotlib inline\n",
    "d['Temperature (C)'].plot()\n"
   ]
  },
  {
   "cell_type": "code",
   "execution_count": null,
   "metadata": {},
   "outputs": [],
   "source": [
    "# histogram\n",
    "d['Temperature (C)'].plot.hist()\n"
   ]
  },
  {
   "cell_type": "code",
   "execution_count": null,
   "metadata": {},
   "outputs": [],
   "source": [
    "# boxplot over all numerical variables\n",
    "plt.figure(figsize=(20,10)) #pandas uses plt, so we can use plt methods to manipulate the output\n",
    "d.boxplot()\n"
   ]
  },
  {
   "cell_type": "code",
   "execution_count": null,
   "metadata": {},
   "outputs": [],
   "source": [
    "#scatter plot\n",
    "d.plot.scatter('Temperature (C)','Humidity',figsize=(10,5))"
   ]
  },
  {
   "cell_type": "code",
   "execution_count": null,
   "metadata": {},
   "outputs": [],
   "source": [
    "#finaly a realy helpfull tool to get a first look at data - takes some time to compute on full data\n",
    "output=pd.plotting.scatter_matrix(d[1:100],figsize=(20,15))\n"
   ]
  },
  {
   "cell_type": "code",
   "execution_count": null,
   "metadata": {},
   "outputs": [],
   "source": []
  },
  {
   "cell_type": "code",
   "execution_count": null,
   "metadata": {},
   "outputs": [],
   "source": []
  }
 ],
 "metadata": {
  "kernelspec": {
   "display_name": "Python 3",
   "language": "python",
   "name": "python3"
  },
  "language_info": {
   "codemirror_mode": {
    "name": "ipython",
    "version": 3
   },
   "file_extension": ".py",
   "mimetype": "text/x-python",
   "name": "python",
   "nbconvert_exporter": "python",
   "pygments_lexer": "ipython3",
   "version": "3.7.6"
  }
 },
 "nbformat": 4,
 "nbformat_minor": 2
}
