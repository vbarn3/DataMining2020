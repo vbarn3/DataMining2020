{
 "cells": [
  {
   "cell_type": "markdown",
   "metadata": {},
   "source": [
    "# Assignment: Numpy"
   ]
  },
  {
   "cell_type": "markdown",
   "metadata": {},
   "source": [
    "Perform the follwing tasks:\n"
   ]
  },
  {
   "cell_type": "code",
   "execution_count": 1,
   "metadata": {},
   "outputs": [],
   "source": [
    "#1: import the numpy library\n",
    "import numpy as np\n",
    "import matplotlib.pyplot as plt"
   ]
  },
  {
   "cell_type": "code",
   "execution_count": 2,
   "metadata": {},
   "outputs": [
    {
     "data": {
      "text/plain": [
       "array([[0.62436597, 0.40468821, 0.70600139, 0.13680714, 0.30632691,\n",
       "        0.1828788 , 0.94009833, 0.9908001 , 0.98002941, 0.96218081],\n",
       "       [0.96527772, 0.22350155, 0.05060825, 0.89635342, 0.75271655,\n",
       "        0.50860183, 0.04229792, 0.46236501, 0.33304692, 0.11861324],\n",
       "       [0.29506895, 0.95735104, 0.96205143, 0.7094923 , 0.24139373,\n",
       "        0.72935005, 0.30988066, 0.75921232, 0.05551716, 0.52592734],\n",
       "       [0.05829866, 0.10387419, 0.35117095, 0.97514848, 0.12173738,\n",
       "        0.0770937 , 0.21956618, 0.81596647, 0.76907746, 0.82824713],\n",
       "       [0.30763176, 0.91858324, 0.29290085, 0.25974582, 0.76656349,\n",
       "        0.59642601, 0.77767977, 0.49590033, 0.42304771, 0.94875298],\n",
       "       [0.83845189, 0.36543642, 0.22649128, 0.19206476, 0.89384907,\n",
       "        0.70754001, 0.34676739, 0.39847409, 0.66894867, 0.03702951],\n",
       "       [0.46029015, 0.20392625, 0.64375944, 0.80054954, 0.33367544,\n",
       "        0.63997901, 0.78043927, 0.46979569, 0.1978884 , 0.59769548],\n",
       "       [0.51215305, 0.78135485, 0.00465921, 0.93059041, 0.57044657,\n",
       "        0.14914945, 0.06619219, 0.04479053, 0.42747732, 0.31717941],\n",
       "       [0.49914612, 0.17649286, 0.45347492, 0.56007404, 0.68482302,\n",
       "        0.96386965, 0.67427888, 0.06043272, 0.6964743 , 0.41069055],\n",
       "       [0.37692909, 0.47359171, 0.14577598, 0.80528925, 0.43731742,\n",
       "        0.96095636, 0.0965017 , 0.05746784, 0.06533747, 0.29371546]])"
      ]
     },
     "execution_count": 2,
     "metadata": {},
     "output_type": "execute_result"
    }
   ],
   "source": [
    "#2: create a random 10x10 array named A\n",
    "A = np.random.rand(10,10)\n",
    "A"
   ]
  },
  {
   "cell_type": "code",
   "execution_count": 3,
   "metadata": {},
   "outputs": [
    {
     "data": {
      "text/plain": [
       "array([[0.62436597, 0.40468821, 0.70600139, 0.13680714, 0.30632691,\n",
       "        0.1828788 , 0.94009833, 0.9908001 , 0.98002941, 0.96218081],\n",
       "       [0.29506895, 0.95735104, 0.96205143, 0.7094923 , 0.24139373,\n",
       "        0.72935005, 0.30988066, 0.75921232, 0.05551716, 0.52592734],\n",
       "       [0.30763176, 0.91858324, 0.29290085, 0.25974582, 0.76656349,\n",
       "        0.59642601, 0.77767977, 0.49590033, 0.42304771, 0.94875298],\n",
       "       [0.46029015, 0.20392625, 0.64375944, 0.80054954, 0.33367544,\n",
       "        0.63997901, 0.78043927, 0.46979569, 0.1978884 , 0.59769548],\n",
       "       [0.49914612, 0.17649286, 0.45347492, 0.56007404, 0.68482302,\n",
       "        0.96386965, 0.67427888, 0.06043272, 0.6964743 , 0.41069055]])"
      ]
     },
     "execution_count": 3,
     "metadata": {},
     "output_type": "execute_result"
    }
   ],
   "source": [
    "#3: return only the odd rows of A\n",
    "A[::2]"
   ]
  },
  {
   "cell_type": "code",
   "execution_count": 4,
   "metadata": {},
   "outputs": [
    {
     "data": {
      "text/plain": [
       "array([[4.94975966, 2.11348053, 3.15925259, 3.07667653, 3.69993546,\n",
       "        2.67279377, 3.1213752 , 1.79932618, 2.93739059, 1.44408692],\n",
       "       [2.11348053, 2.95354256, 2.18109863, 1.84312548, 2.1458611 ,\n",
       "        2.53339739, 2.20372679, 2.21212094, 2.38907293, 2.10406311],\n",
       "       [3.15925259, 2.18109863, 3.9748425 , 2.3977919 , 3.19624261,\n",
       "        2.1498266 , 2.98952396, 2.05542772, 2.52767985, 2.31427799],\n",
       "       [3.07667653, 1.84312548, 2.3977919 , 3.10067164, 2.29534934,\n",
       "        1.46345338, 2.34662704, 1.74361084, 1.98366788, 1.39655775],\n",
       "       [3.69993546, 2.1458611 , 3.19624261, 2.29534934, 3.96483939,\n",
       "        2.60243952, 2.85358899, 2.20007197, 2.93244132, 2.12107815],\n",
       "       [2.67279377, 2.53339739, 2.1498266 , 1.46345338, 2.60243952,\n",
       "        2.95220427, 2.12342456, 1.84866898, 2.72640232, 1.85854672],\n",
       "       [3.1213752 , 2.20372679, 2.98952396, 2.34662704, 2.85358899,\n",
       "        2.12342456, 3.05586429, 1.77572832, 2.78932113, 2.06030089],\n",
       "       [1.79932618, 2.21212094, 2.05542772, 1.74361084, 2.20007197,\n",
       "        1.84866898, 1.77572832, 2.37621844, 1.92659906, 1.836007  ],\n",
       "       [2.93739059, 2.38907293, 2.52767985, 1.98366788, 2.93244132,\n",
       "        2.72640232, 2.78932113, 1.92659906, 3.30969359, 2.24925134],\n",
       "       [1.44408692, 2.10406311, 2.31427799, 1.39655775, 2.12107815,\n",
       "        1.85854672, 2.06030089, 1.836007  , 2.24925134, 2.25394259]])"
      ]
     },
     "execution_count": 4,
     "metadata": {},
     "output_type": "execute_result"
    }
   ],
   "source": [
    "#4: perform a matrix multiplication of A with it's transposed\n",
    "np.dot(A,A.T)"
   ]
  },
  {
   "cell_type": "code",
   "execution_count": 5,
   "metadata": {},
   "outputs": [
    {
     "data": {
      "text/plain": [
       "array([[ 1.62190485,  1.97975885,  0.16304408, -1.37615373, -0.39984217,\n",
       "        -2.0760507 , -1.2069454 , -0.07526898,  0.87095913,  0.34879394],\n",
       "       [ 0.16933298, -2.11382806, -0.2909337 ,  0.01939295, -0.40281337,\n",
       "         1.87995169,  0.97076864,  1.16525208, -1.89443219,  1.24443904],\n",
       "       [-0.05250047,  3.00370045,  2.2371884 , -0.84457664,  0.36270036,\n",
       "        -3.4580128 , -2.51222627, -0.66291395,  3.89702459, -3.02187312],\n",
       "       [-0.61292524, -1.11373357, -0.47135069,  0.64448752, -0.50235801,\n",
       "         1.16235586,  1.59425067,  0.78789394, -1.05942437,  0.34672114],\n",
       "       [-1.5500991 ,  2.67218131,  1.12943749,  0.03044579,  1.75403511,\n",
       "        -1.72072381, -1.48501305, -0.81176068,  2.5957756 , -3.28933586],\n",
       "       [ 0.22700292, -1.1329998 , -0.44868466,  0.23799088, -0.37767467,\n",
       "         1.13820264,  0.28601026, -0.48757922, -0.84232669,  2.04498169],\n",
       "       [-0.47164723, -3.83728991, -1.78421506,  0.52915452, -0.65015781,\n",
       "         3.99304371,  4.19554427,  1.20720856, -3.44536019,  1.37022459],\n",
       "       [-0.51858743, -1.80391758, -0.6632489 ,  1.15337669, -0.17781764,\n",
       "         3.07148683,  1.92624968, -0.24796703, -2.9632661 ,  1.04106629],\n",
       "       [ 0.39278017, -1.56040775, -0.4398461 ,  0.61532004, -0.83721907,\n",
       "         1.39200005, -0.0656063 ,  0.65040795, -0.29639922,  0.77034917],\n",
       "       [ 1.08641419,  4.11953222,  1.04199633, -0.97344214,  1.418626  ,\n",
       "        -5.22206306, -3.6059904 , -1.30239096,  3.57608313, -1.11864956]])"
      ]
     },
     "execution_count": 5,
     "metadata": {},
     "output_type": "execute_result"
    }
   ],
   "source": [
    "#5: compute the matrix inverse of A\n",
    "Ainv = np.linalg.inv(A)\n",
    "Ainv"
   ]
  },
  {
   "cell_type": "code",
   "execution_count": 6,
   "metadata": {},
   "outputs": [
    {
     "data": {
      "text/plain": [
       "array([[0.31218299, 0.40468821, 0.3530007 , 0.13680714, 0.30632691,\n",
       "        0.1828788 , 0.47004916, 0.49540005, 0.4900147 , 0.48109041],\n",
       "       [0.48263886, 0.22350155, 0.05060825, 0.44817671, 0.37635828,\n",
       "        0.25430091, 0.04229792, 0.46236501, 0.33304692, 0.11861324],\n",
       "       [0.29506895, 0.47867552, 0.48102571, 0.35474615, 0.24139373,\n",
       "        0.36467503, 0.30988066, 0.37960616, 0.05551716, 0.26296367],\n",
       "       [0.05829866, 0.10387419, 0.35117095, 0.48757424, 0.12173738,\n",
       "        0.0770937 , 0.21956618, 0.40798324, 0.38453873, 0.41412356],\n",
       "       [0.30763176, 0.45929162, 0.29290085, 0.25974582, 0.38328175,\n",
       "        0.29821301, 0.38883989, 0.49590033, 0.42304771, 0.47437649],\n",
       "       [0.41922594, 0.36543642, 0.22649128, 0.19206476, 0.44692454,\n",
       "        0.35377   , 0.34676739, 0.39847409, 0.33447433, 0.03702951],\n",
       "       [0.46029015, 0.20392625, 0.32187972, 0.40027477, 0.33367544,\n",
       "        0.3199895 , 0.39021964, 0.46979569, 0.1978884 , 0.29884774],\n",
       "       [0.25607653, 0.39067742, 0.00465921, 0.46529521, 0.28522328,\n",
       "        0.14914945, 0.06619219, 0.04479053, 0.42747732, 0.31717941],\n",
       "       [0.49914612, 0.17649286, 0.45347492, 0.28003702, 0.34241151,\n",
       "        0.48193482, 0.33713944, 0.06043272, 0.34823715, 0.41069055],\n",
       "       [0.37692909, 0.47359171, 0.14577598, 0.40264462, 0.43731742,\n",
       "        0.48047818, 0.0965017 , 0.05746784, 0.06533747, 0.29371546]])"
      ]
     },
     "execution_count": 6,
     "metadata": {},
     "output_type": "execute_result"
    }
   ],
   "source": [
    "#6: divide all entries of A which are lager than 0.5 by 2 (hint: use where() )\n",
    "np.where(A > 0.5, A/2, A)"
   ]
  },
  {
   "cell_type": "code",
   "execution_count": 7,
   "metadata": {},
   "outputs": [
    {
     "data": {
      "text/plain": [
       "array([[ 0.46735231,  0.3677216 ,  0.64975955,  0.16330291,  0.41333591,\n",
       "         0.20523421,  0.9660962 ,  0.96513654,  1.00392335,  1.00785875],\n",
       "       [ 0.77810716,  0.25957854,  0.02282481,  0.95351628,  0.73858191,\n",
       "         0.5539539 ,  0.08397008,  0.24168341,  0.53744197,  0.16523895],\n",
       "       [ 0.16680972,  0.90042125,  0.74618366,  0.79604194,  0.27641711,\n",
       "         0.75133448,  0.47934959,  0.55121481,  0.05035629,  0.75435256],\n",
       "       [ 0.25115493,  0.12629095,  0.42923166,  0.98257721,  0.05703886,\n",
       "        -0.02864985,  0.27466076,  0.82852718,  0.66546452,  0.76554551],\n",
       "       [ 0.46211162,  1.00478869,  0.49324941,  0.21545327,  0.65738264,\n",
       "         0.54886712,  0.68692009,  0.56215317,  0.47125678,  0.75367507],\n",
       "       [ 0.82860696,  0.33184932,  0.11662618,  0.25945433,  0.88997297,\n",
       "         0.67463762,  0.48461776,  0.20929049,  0.63600343,  0.20389152],\n",
       "       [ 0.371799  ,  0.2328499 ,  0.68364712,  0.7252573 ,  0.30443597,\n",
       "         0.77397092,  0.58493637,  0.52747917,  0.35870574,  0.5713412 ],\n",
       "       [ 0.52439011,  0.73668175, -0.04311072,  0.84586338,  0.61462885,\n",
       "         0.23710215, -0.06651125,  0.2840807 ,  0.34593074,  0.31558543],\n",
       "       [ 0.68984953,  0.15961832,  0.46756433,  0.49638743,  0.66563611,\n",
       "         0.94025921,  0.62956015,  0.31975864,  0.50866309,  0.3239393 ],\n",
       "       [ 0.43176339,  0.48604816,  0.29228831,  0.82340481,  0.49753214,\n",
       "         0.83760848,  0.12929923,  0.09352438,  0.00564804,  0.16026551]])"
      ]
     },
     "execution_count": 7,
     "metadata": {},
     "output_type": "execute_result"
    },
    {
     "data": {
      "image/png": "[encoded data removed]",
      "text/plain": [
       "<Figure size 432x288 with 1 Axes>"
      ]
     },
     "metadata": {
      "needs_background": "light"
     },
     "output_type": "display_data"
    }
   ],
   "source": [
    "#7: compute the singular value decomposition of A\n",
    "U, S, V = np.linalg.svd(A)\n",
    "\n",
    "#7.1: plot the singular values\n",
    "plt.plot(S)\n",
    "\n",
    "#7.2: reconstruct A' by using only the top 5 singular values\n",
    "np.dot(U[:,:5]*S[:5],V[:5,:])"
   ]
  },
  {
   "cell_type": "code",
   "execution_count": null,
   "metadata": {},
   "outputs": [],
   "source": []
  },
  {
   "cell_type": "code",
   "execution_count": null,
   "metadata": {},
   "outputs": [],
   "source": []
  }
 ],
 "metadata": {
  "kernelspec": {
   "display_name": "Python 3",
   "language": "python",
   "name": "python3"
  },
  "language_info": {
   "codemirror_mode": {
    "name": "ipython",
    "version": 3
   },
   "file_extension": ".py",
   "mimetype": "text/x-python",
   "name": "python",
   "nbconvert_exporter": "python",
   "pygments_lexer": "ipython3",
   "version": "3.8.3"
  }
 },
 "nbformat": 4,
 "nbformat_minor": 4
}
