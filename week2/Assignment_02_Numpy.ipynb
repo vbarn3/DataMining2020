{
 "cells": [
  {
   "cell_type": "markdown",
   "metadata": {},
   "source": [
    "# Assignment: Numpy"
   ]
  },
  {
   "cell_type": "markdown",
   "metadata": {},
   "source": [
    "Perform the follwing tasks:\n"
   ]
  },
  {
   "cell_type": "code",
   "execution_count": 1,
   "metadata": {},
   "outputs": [],
   "source": [
    "#1: import the numpy library\n",
    "import numpy as np\n",
    "import matplotlib.pyplot as plt"
   ]
  },
  {
   "cell_type": "code",
   "execution_count": 2,
   "metadata": {},
   "outputs": [
    {
     "data": {
      "text/plain": [
       "array([[1.97886635e-01, 2.84732536e-01, 6.01374916e-01, 6.54290627e-02,\n",
       "        3.65655990e-01, 8.19791481e-01, 6.97874816e-01, 3.17516437e-01,\n",
       "        8.52876635e-01, 3.04929010e-01],\n",
       "       [6.43592905e-02, 4.69016989e-01, 5.36898186e-01, 1.36336621e-01,\n",
       "        4.72081365e-01, 2.94171180e-01, 5.22854839e-01, 5.43057504e-01,\n",
       "        8.46731717e-01, 2.07053160e-02],\n",
       "       [6.25317906e-01, 1.86577451e-01, 3.08392312e-01, 8.16334924e-01,\n",
       "        8.03948174e-01, 4.81919995e-01, 4.96796939e-01, 5.18557582e-01,\n",
       "        1.34480308e-01, 9.32072521e-01],\n",
       "       [2.05381510e-01, 4.29072323e-04, 6.79670606e-01, 6.53079007e-01,\n",
       "        8.09961707e-02, 3.82177613e-01, 4.40907324e-01, 1.88240517e-01,\n",
       "        1.94587236e-01, 7.39600919e-01],\n",
       "       [6.54436376e-01, 5.15334816e-01, 8.39407866e-01, 4.89292241e-01,\n",
       "        7.67146627e-01, 2.79863326e-02, 4.16657738e-02, 7.27608358e-01,\n",
       "        8.37277127e-01, 7.63601526e-01],\n",
       "       [5.35190448e-01, 6.08422329e-01, 9.05984332e-02, 6.03782593e-01,\n",
       "        5.12903838e-01, 8.58745175e-01, 8.63243036e-01, 6.11764151e-01,\n",
       "        9.44621841e-01, 7.45001335e-01],\n",
       "       [5.63741679e-02, 1.91437669e-01, 2.98441189e-01, 1.03526213e-01,\n",
       "        1.41699612e-01, 6.72034131e-01, 9.35889670e-01, 7.41616698e-01,\n",
       "        3.47857791e-01, 2.76531876e-01],\n",
       "       [2.48842379e-01, 1.70356757e-01, 4.83050158e-01, 1.20230710e-01,\n",
       "        6.49843128e-01, 4.02152508e-01, 9.13437499e-01, 8.28017089e-01,\n",
       "        5.24530483e-01, 8.87209048e-01],\n",
       "       [7.63679402e-01, 8.45600845e-01, 6.97177186e-01, 7.82676583e-01,\n",
       "        7.87282260e-02, 9.32311450e-01, 7.73679547e-01, 2.47183136e-01,\n",
       "        2.03398742e-02, 8.31479681e-01],\n",
       "       [5.19675708e-01, 6.23797501e-02, 5.77612743e-01, 3.86487351e-01,\n",
       "        4.59472134e-01, 8.66026250e-01, 6.49919791e-01, 8.38695528e-01,\n",
       "        5.02013437e-02, 3.24622694e-01]])"
      ]
     },
     "execution_count": 2,
     "metadata": {},
     "output_type": "execute_result"
    }
   ],
   "source": [
    "#2: create a random 10x10 array named A\n",
    "A = np.random.rand(10,10)\n",
    "A"
   ]
  },
  {
   "cell_type": "code",
   "execution_count": 3,
   "metadata": {},
   "outputs": [
    {
     "data": {
      "text/plain": [
       "array([[0.19788664, 0.28473254, 0.60137492, 0.06542906, 0.36565599,\n",
       "        0.81979148, 0.69787482, 0.31751644, 0.85287664, 0.30492901],\n",
       "       [0.62531791, 0.18657745, 0.30839231, 0.81633492, 0.80394817,\n",
       "        0.48191999, 0.49679694, 0.51855758, 0.13448031, 0.93207252],\n",
       "       [0.65443638, 0.51533482, 0.83940787, 0.48929224, 0.76714663,\n",
       "        0.02798633, 0.04166577, 0.72760836, 0.83727713, 0.76360153],\n",
       "       [0.05637417, 0.19143767, 0.29844119, 0.10352621, 0.14169961,\n",
       "        0.67203413, 0.93588967, 0.7416167 , 0.34785779, 0.27653188],\n",
       "       [0.7636794 , 0.84560085, 0.69717719, 0.78267658, 0.07872823,\n",
       "        0.93231145, 0.77367955, 0.24718314, 0.02033987, 0.83147968]])"
      ]
     },
     "execution_count": 3,
     "metadata": {},
     "output_type": "execute_result"
    }
   ],
   "source": [
    "#3: return only the odd rows of A\n",
    "A[::2]"
   ]
  },
  {
   "cell_type": "code",
   "execution_count": 4,
   "metadata": {},
   "outputs": [
    {
     "data": {
      "text/plain": [
       "array([[2.70015307, 2.15764438, 2.01504422, 1.59410657, 2.32354775,\n",
       "        3.09417073, 2.12426576, 2.58167939, 2.54476098, 2.23288212],\n",
       "       [2.15764438, 2.12603584, 1.60044742, 1.13086718, 2.3132713 ,\n",
       "        2.5443558 , 1.72469235, 2.18649929, 1.81139218, 1.74168503],\n",
       "       [2.01504422, 1.60044742, 3.46847501, 2.15272574, 3.01624277,\n",
       "        3.36272505, 1.83935046, 2.93140303, 3.29211071, 2.68409585],\n",
       "       [1.59410657, 1.13086718, 2.15272574, 1.89797365, 1.98054923,\n",
       "        2.16639454, 1.37488121, 1.98119957, 2.51146606, 1.81423371],\n",
       "       [2.32354775, 2.3132713 , 3.01624277, 1.98054923, 4.04243683,\n",
       "        3.29365688, 1.64524302, 2.98190886, 2.85424654, 2.35015459],\n",
       "       [3.09417073, 2.5443558 , 3.36272505, 2.16639454, 3.29365688,\n",
       "        4.59666299, 2.68218127, 3.48336188, 3.75768221, 2.94451295],\n",
       "       [2.12426576, 1.72469235, 1.83935046, 1.37488121, 1.64524302,\n",
       "        2.68218127, 2.23467962, 2.46234442, 2.27612631, 2.23821462],\n",
       "       [2.58167939, 2.18649929, 2.93140303, 1.98119957, 2.98190886,\n",
       "        3.48336188, 2.46234442, 3.50501205, 2.85080026, 2.71474283],\n",
       "       [2.54476098, 1.81139218, 3.29211071, 2.51146606, 2.85424654,\n",
       "        3.75768221, 2.27612631, 2.85080026, 4.62374017, 2.97946595],\n",
       "       [2.23288212, 1.74168503, 2.68409585, 1.81423371, 2.35015459,\n",
       "        2.94451295, 2.23821462, 2.71474283, 2.97946595, 2.95178513]])"
      ]
     },
     "execution_count": 4,
     "metadata": {},
     "output_type": "execute_result"
    }
   ],
   "source": [
    "#4: perform a matrix multiplication of A with it's transposed\n",
    "np.dot(A,A.T)"
   ]
  },
  {
   "cell_type": "code",
   "execution_count": 5,
   "metadata": {},
   "outputs": [
    {
     "data": {
      "text/plain": [
       "array([[ -7.64620534,   6.21044355, -11.56460995,   4.29977353,\n",
       "         -6.05333942,   8.29759568, -19.78218041,  10.5180507 ,\n",
       "          0.93983542,  11.08905326],\n",
       "       [  3.06224722,  -2.46216416,   4.96080285,  -2.96204043,\n",
       "          2.9780092 ,  -3.71447353,   8.73292821,  -4.55485747,\n",
       "          0.60936482,  -5.24642825],\n",
       "       [  0.12464357,   0.66065151,  -0.5444265 ,   0.59298815,\n",
       "         -0.06017128,  -0.65409723,  -0.85671989,   0.43334144,\n",
       "          0.28829622,   0.50263772],\n",
       "       [ -1.10740409,   1.19296045,   0.35362623,   1.17152468,\n",
       "         -0.47666303,   0.58886336,  -0.224185  ,  -0.81244152,\n",
       "         -0.3038249 ,   0.23908868],\n",
       "       [  2.06498252,  -0.39620828,   3.61714419,  -1.69899123,\n",
       "          0.62865299,  -2.24151012,   2.87317847,  -1.67698874,\n",
       "         -0.19958407,  -2.11686616],\n",
       "       [  5.90800551,  -5.2296525 ,   6.97131742,  -3.2410747 ,\n",
       "          4.0648198 ,  -4.77173753,  12.1184006 ,  -7.08152729,\n",
       "         -0.5400994 ,  -6.04428264],\n",
       "       [ -6.10722525,   6.19012273,  -7.89895256,   3.66538767,\n",
       "         -5.76770107,   5.64307729, -14.34184548,   8.42026309,\n",
       "          0.82501676,   7.37828462],\n",
       "       [  1.2038296 ,  -2.35195973,   2.48569069,  -1.35156368,\n",
       "          2.60661883,  -1.87325792,   6.52993284,  -3.16773612,\n",
       "         -0.55596638,  -2.35185311],\n",
       "       [ -1.30323627,   1.28510768,  -2.83908096,   1.46966983,\n",
       "         -1.02156548,   2.44544461,  -4.09059392,   1.89175605,\n",
       "         -0.39181685,   2.05419992],\n",
       "       [  3.38307033,  -4.06764109,   4.22133642,  -1.78655278,\n",
       "          3.02986892,  -3.04039775,   7.86093012,  -3.46719391,\n",
       "         -0.20428533,  -4.73458914]])"
      ]
     },
     "execution_count": 5,
     "metadata": {},
     "output_type": "execute_result"
    }
   ],
   "source": [
    "#5: compute the matrix inverse of A\n",
    "Ainv = np.linalg.inv(A)\n",
    "Ainv"
   ]
  },
  {
   "cell_type": "code",
   "execution_count": 6,
   "metadata": {},
   "outputs": [
    {
     "data": {
      "text/plain": [
       "array([[1.97886635e-01, 2.84732536e-01, 3.00687458e-01, 6.54290627e-02,\n",
       "        3.65655990e-01, 4.09895741e-01, 3.48937408e-01, 3.17516437e-01,\n",
       "        4.26438318e-01, 3.04929010e-01],\n",
       "       [6.43592905e-02, 4.69016989e-01, 2.68449093e-01, 1.36336621e-01,\n",
       "        4.72081365e-01, 2.94171180e-01, 2.61427419e-01, 2.71528752e-01,\n",
       "        4.23365859e-01, 2.07053160e-02],\n",
       "       [3.12658953e-01, 1.86577451e-01, 3.08392312e-01, 4.08167462e-01,\n",
       "        4.01974087e-01, 4.81919995e-01, 4.96796939e-01, 2.59278791e-01,\n",
       "        1.34480308e-01, 4.66036261e-01],\n",
       "       [2.05381510e-01, 4.29072323e-04, 3.39835303e-01, 3.26539503e-01,\n",
       "        8.09961707e-02, 3.82177613e-01, 4.40907324e-01, 1.88240517e-01,\n",
       "        1.94587236e-01, 3.69800459e-01],\n",
       "       [3.27218188e-01, 2.57667408e-01, 4.19703933e-01, 4.89292241e-01,\n",
       "        3.83573314e-01, 2.79863326e-02, 4.16657738e-02, 3.63804179e-01,\n",
       "        4.18638564e-01, 3.81800763e-01],\n",
       "       [2.67595224e-01, 3.04211164e-01, 9.05984332e-02, 3.01891296e-01,\n",
       "        2.56451919e-01, 4.29372587e-01, 4.31621518e-01, 3.05882075e-01,\n",
       "        4.72310921e-01, 3.72500667e-01],\n",
       "       [5.63741679e-02, 1.91437669e-01, 2.98441189e-01, 1.03526213e-01,\n",
       "        1.41699612e-01, 3.36017065e-01, 4.67944835e-01, 3.70808349e-01,\n",
       "        3.47857791e-01, 2.76531876e-01],\n",
       "       [2.48842379e-01, 1.70356757e-01, 4.83050158e-01, 1.20230710e-01,\n",
       "        3.24921564e-01, 4.02152508e-01, 4.56718750e-01, 4.14008545e-01,\n",
       "        2.62265241e-01, 4.43604524e-01],\n",
       "       [3.81839701e-01, 4.22800423e-01, 3.48588593e-01, 3.91338292e-01,\n",
       "        7.87282260e-02, 4.66155725e-01, 3.86839773e-01, 2.47183136e-01,\n",
       "        2.03398742e-02, 4.15739840e-01],\n",
       "       [2.59837854e-01, 6.23797501e-02, 2.88806371e-01, 3.86487351e-01,\n",
       "        4.59472134e-01, 4.33013125e-01, 3.24959896e-01, 4.19347764e-01,\n",
       "        5.02013437e-02, 3.24622694e-01]])"
      ]
     },
     "execution_count": 6,
     "metadata": {},
     "output_type": "execute_result"
    }
   ],
   "source": [
    "#6: divide all entries of A which are lager than 0.5 by 2 (hint: use where() )\n",
    "np.where(A > 0.5, A/2, A)"
   ]
  },
  {
   "cell_type": "code",
   "execution_count": 7,
   "metadata": {},
   "outputs": [
    {
     "data": {
      "text/plain": [
       "array([[0.18747565, 0.45510446, 0.56446691, 0.12953297, 0.26907408,\n",
       "        0.6821791 , 0.74074009, 0.51311894, 0.77706464, 0.23520148],\n",
       "       [0.11803901, 0.38686668, 0.5391705 , 0.013036  , 0.3902412 ,\n",
       "        0.35066626, 0.46882796, 0.51247104, 0.90950431, 0.15858493],\n",
       "       [0.65105263, 0.21850404, 0.29331311, 0.74926394, 0.66884737,\n",
       "        0.42768329, 0.49711596, 0.59800243, 0.1452033 , 1.0250264 ],\n",
       "       [0.42692527, 0.22255383, 0.63480577, 0.49425338, 0.21658745,\n",
       "        0.43715603, 0.3601562 , 0.32607579, 0.01736156, 0.55291043],\n",
       "       [0.57672144, 0.46473878, 0.86813586, 0.53607109, 0.82216837,\n",
       "        0.01949297, 0.09248627, 0.62496806, 0.85944181, 0.78106874],\n",
       "       [0.51838441, 0.67252073, 0.10690834, 0.54586194, 0.57419777,\n",
       "        0.82755539, 0.91046753, 0.5676404 , 0.89385283, 0.76273235],\n",
       "       [0.09685448, 0.11790592, 0.31649423, 0.06737493, 0.24936701,\n",
       "        0.76139563, 0.91019823, 0.63086892, 0.36240751, 0.25522389],\n",
       "       [0.3235838 , 0.10595739, 0.44298946, 0.28649384, 0.71447755,\n",
       "        0.53311338, 0.78615288, 0.91422267, 0.54281668, 0.65542457],\n",
       "       [0.72606179, 0.69298542, 0.70321106, 0.88968024, 0.06934352,\n",
       "        1.00305231, 0.73339748, 0.19296583, 0.11468169, 0.82237239],\n",
       "       [0.32716298, 0.05278422, 0.63089834, 0.35306874, 0.36717133,\n",
       "        0.71210333, 0.80807098, 0.71837714, 0.09053254, 0.57035585]])"
      ]
     },
     "execution_count": 7,
     "metadata": {},
     "output_type": "execute_result"
    },
    {
     "data": {
      "image/png": "[encoded data removed]",
      "text/plain": [
       "<Figure size 432x288 with 1 Axes>"
      ]
     },
     "metadata": {
      "needs_background": "light"
     },
     "output_type": "display_data"
    }
   ],
   "source": [
    "#7: compute the singular value decomposition of A\n",
    "U, S, V = np.linalg.svd(A)\n",
    "\n",
    "#7.1: plot the singular values\n",
    "plt.plot(S)\n",
    "\n",
    "#7.2: reconstruct A' by using only the top 5 singular values\n",
    "np.dot(U[:,:5]*S[:5],V[:5,:])"
   ]
  },
  {
   "cell_type": "code",
   "execution_count": null,
   "metadata": {},
   "outputs": [],
   "source": []
  },
  {
   "cell_type": "code",
   "execution_count": null,
   "metadata": {},
   "outputs": [],
   "source": []
  }
 ],
 "metadata": {
  "kernelspec": {
   "display_name": "Python 3",
   "language": "python",
   "name": "python3"
  },
  "language_info": {
   "codemirror_mode": {
    "name": "ipython",
    "version": 3
   },
   "file_extension": ".py",
   "mimetype": "text/x-python",
   "name": "python",
   "nbconvert_exporter": "python",
   "pygments_lexer": "ipython3",
   "version": "3.8.3"
  }
 },
 "nbformat": 4,
 "nbformat_minor": 4
}
