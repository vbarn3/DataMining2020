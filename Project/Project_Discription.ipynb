{
 "cells": [
  {
   "cell_type": "markdown",
   "metadata": {},
   "source": [
    "# Data Mining for Security Applications: final project\n",
    "\n",
    "This final hands on project will count for 50% of your final grade (exam is the other 50%)"
   ]
  },
  {
   "cell_type": "markdown",
   "metadata": {},
   "source": [
    "## Organization\n",
    "* you can start the project as of now\n",
    "* the project has to be handed in no later than March 1st - NO EXTENSIONS!\n",
    "\n",
    "### Project Submission \n",
    "* hand in a single jupyter notebook for your project (via moodle)\n",
    "* set all paths as relative paths such that the data is in the same folder as the notebook\n",
    "* your notebook should run without errors (uncomment parts that do not work)\n",
    "* Use markdown cells and comments in the code to document and motivate you solution\n",
    "* show and analyze intermediate results\n",
    "* evaluate and discuss your solution\n",
    "\n",
    "### Grading Criteria\n",
    "* 4.0 : notebook that works and gives some solution to the problem\n",
    "* 3.0 : + good documentation, evaluation and discussion\n",
    "* 2.0 : + complete processing pipeline, good results\n",
    "* 1.0 : + very detailed documentation and analysis, hyper-parameter optimization, tried and compared more than one method \n",
    "\n"
   ]
  },
  {
   "cell_type": "markdown",
   "metadata": {},
   "source": [
    "# Task: Breaking image captchas  \n",
    "\n",
    "We are working on this Kaggle Challenge: https://www.kaggle.com/fournierp/captcha-version-2-images  \n",
    "\n",
    "HINT: have a good look at the problem description and the notebooks of other users to get started \n",
    "\n",
    "* Train and test images are in the according folders\n",
    "* The true labels are encoded in the file names "
   ]
  },
  {
   "cell_type": "markdown",
   "metadata": {},
   "source": [
    "## Tasks to follow:\n",
    "* write code to read the images [use the imageio lib](https://imageio.readthedocs.io/en/stable/userapi.html) and convert then into NUMPY feature vectors\n",
    "and labels\n",
    "    * HINT: use [the os lib](https://docs.python.org/2/library/os.html#os.listdir) to get files in a directory\n",
    "* the hardest part is to solve the segmentation problem: splitting the image into single characters\n",
    "    * try Clustering over pixel positions\n",
    "    * or a density projection along the y-axis\n",
    "* crate a training data set of labeled character segments\n",
    "    * evaluate this step\n",
    "* train a CNN or MLP network to classify character segments\n",
    "    * evaluate this step\n",
    "* build a full pipeline to transform capcha image inputs into strings\n",
    "* Evaluate and discuss your results"
   ]
  },
  {
   "cell_type": "code",
   "execution_count": null,
   "metadata": {},
   "outputs": [],
   "source": []
  }
 ],
 "metadata": {
  "kernelspec": {
   "display_name": "Python 3",
   "language": "python",
   "name": "python3"
  },
  "language_info": {
   "codemirror_mode": {
    "name": "ipython",
    "version": 3
   },
   "file_extension": ".py",
   "mimetype": "text/x-python",
   "name": "python",
   "nbconvert_exporter": "python",
   "pygments_lexer": "ipython3",
   "version": "3.7.6"
  }
 },
 "nbformat": 4,
 "nbformat_minor": 4
}
